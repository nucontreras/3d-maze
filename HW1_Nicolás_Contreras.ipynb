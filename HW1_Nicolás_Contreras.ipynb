{
  "nbformat": 4,
  "nbformat_minor": 0,
  "metadata": {
    "colab": {
      "provenance": [],
      "collapsed_sections": [
        "plg8RdxMsSZj",
        "NAhWp6ZFsV8F",
        "vomkoPdDsrHg",
        "OrSMS7u2WnoN"
      ],
      "authorship_tag": "ABX9TyPee4R+hOEgo+oB7EyqxAAD",
      "include_colab_link": true
    },
    "kernelspec": {
      "name": "python3",
      "display_name": "Python 3"
    },
    "language_info": {
      "name": "python"
    }
  },
  "cells": [
    {
      "cell_type": "markdown",
      "metadata": {
        "id": "view-in-github",
        "colab_type": "text"
      },
      "source": [
        "<a href=\"https://colab.research.google.com/github/nucontreras/3d-maze/blob/main/HW1_Nicol%C3%A1s_Contreras.ipynb\" target=\"_parent\"><img src=\"https://colab.research.google.com/assets/colab-badge.svg\" alt=\"Open In Colab\"/></a>"
      ]
    },
    {
      "cell_type": "markdown",
      "metadata": {
        "id": "7W64CYScwd13"
      },
      "source": [
        "<b><FONT size=\"8\" color='264653'>Tarea 1: Redes Convolucionales </FONT>"
      ]
    },
    {
      "cell_type": "markdown",
      "metadata": {
        "id": "2LSbhuvYwd8m"
      },
      "source": [
        "><b><FONT size=\"5\" color='DimGray'> IIC-3697 - Aprendizaje Profundo <p></FONT>\n",
        "><b><FONT size=\"3\" color='DimGray'> Fecha de Entrega: 8 de Mayo, 23:59</FONT>"
      ]
    },
    {
      "cell_type": "markdown",
      "metadata": {
        "id": "hutlz3dT4NCx"
      },
      "source": [
        "><b><FONT size=\"3\" color='SlateGray'> Alumno: Nicolás Contreras Pérez <p>\n",
        "N° Alumno: 17642647 </FONT>"
      ]
    },
    {
      "cell_type": "markdown",
      "metadata": {
        "id": "cLo-jCPWyl8Q"
      },
      "source": [
        "# <b><FONT size=\"5\" color='MidnightBlue '>Connection to Google Drive </FONT>"
      ]
    },
    {
      "cell_type": "code",
      "execution_count": 1,
      "metadata": {
        "colab": {
          "base_uri": "https://localhost:8080/"
        },
        "id": "CFiF5dtmyl8T",
        "outputId": "7dbec24f-6266-4d5b-e6e4-f5426c1ce24e"
      },
      "outputs": [
        {
          "output_type": "stream",
          "name": "stdout",
          "text": [
            "Mounted at /content/gdrive\n",
            "/content/gdrive/MyDrive/Aprendizaje Profundo/HW1\n"
          ]
        }
      ],
      "source": [
        "from google.colab import drive\n",
        "drive.mount('/content/gdrive', force_remount=True)\n",
        "\n",
        "%cd 'gdrive/MyDrive/Aprendizaje Profundo/HW1'"
      ]
    },
    {
      "cell_type": "markdown",
      "metadata": {
        "id": "f8eg1lJrBW2J"
      },
      "source": [
        "#<b><FONT size=\"5\" color='MidnightBlue '>Install packages </FONT>\n",
        "\n"
      ]
    },
    {
      "cell_type": "code",
      "source": [
        "! pip install -q torchview\n",
        "! pip install -q -U graphviz"
      ],
      "metadata": {
        "id": "OAyBq6yjBUsm"
      },
      "execution_count": 18,
      "outputs": []
    },
    {
      "cell_type": "code",
      "source": [
        "! pip install ultralytics"
      ],
      "metadata": {
        "id": "dxgIT8KDtuTC"
      },
      "execution_count": null,
      "outputs": []
    },
    {
      "cell_type": "markdown",
      "metadata": {
        "id": "J7q5gU9-xX0v"
      },
      "source": [
        "#<b><FONT size=\"5\" color='MidnightBlue' id=\"import-of-packages\">  Import of packages </FONT>\n",
        "\n"
      ]
    },
    {
      "cell_type": "code",
      "execution_count": 3,
      "metadata": {
        "id": "PGt3yRfFxXOo"
      },
      "outputs": [],
      "source": [
        "import os\n",
        "import sys\n",
        "import numpy as np\n",
        "\n",
        "# Data processing and visualization\n",
        "import matplotlib.pyplot as plt\n",
        "from matplotlib.image import imread\n",
        "\n",
        "# AI packages\n",
        "import torch\n",
        "import torch.nn as nn\n",
        "import torch.nn.functional as F\n",
        "import torch.optim as optim\n",
        "from torchvision.datasets import CIFAR10\n",
        "from torchvision.transforms import ToTensor\n",
        "from torch.utils.data.dataloader import DataLoader\n",
        "from torch.utils.data import random_split\n",
        "from torchvision.utils import make_grid\n",
        "\n",
        "# from torchview import draw_graph\n",
        "# import graphviz"
      ]
    },
    {
      "cell_type": "code",
      "source": [
        "import ultralytics\n",
        "ultralytics.checks()"
      ],
      "metadata": {
        "id": "6BF86VA7t8Xa"
      },
      "execution_count": null,
      "outputs": []
    },
    {
      "cell_type": "code",
      "source": [
        "from ultralytics import YOLO"
      ],
      "metadata": {
        "id": "JsKc0uuouHu8"
      },
      "execution_count": null,
      "outputs": []
    },
    {
      "cell_type": "markdown",
      "metadata": {
        "id": "gGS2j8YheFjr"
      },
      "source": [
        "# <b><FONT color='MidnightBlue' size='5'>Clases y Funciones </FONT></b>"
      ]
    },
    {
      "cell_type": "code",
      "source": [
        "def plot_histogram_classes(class_count, dataset_name=None):\n",
        "    # Obtener las etiquetas y los valores\n",
        "    labels = list(class_count.keys())\n",
        "    values = list(class_count.values())\n",
        "\n",
        "    # Crear la figura con tamaño rectangular\n",
        "    plt.figure(figsize=(8, 4))\n",
        "\n",
        "    # Crear el histograma con el color #47b2ba\n",
        "    plt.bar(labels, values, color='#47b2ba')\n",
        "\n",
        "    # Ajustar el espaciado entre las etiquetas del eje x\n",
        "    plt.xticks(rotation=45, ha='right')\n",
        "\n",
        "    # Añadir etiquetas y título\n",
        "    plt.xlabel('Clases')\n",
        "    plt.ylabel('Frecuencia')\n",
        "    if dataset_name:\n",
        "        plt.title('Histograma de Frecuencia por Clase - ' + dataset_name)\n",
        "    else:\n",
        "        plt.title('Histograma de Frecuencia por Clase')\n",
        "\n",
        "    # Mostrar el histograma\n",
        "    plt.tight_layout()\n",
        "    plt.show()"
      ],
      "metadata": {
        "id": "1m714hmAcfOa"
      },
      "execution_count": 14,
      "outputs": []
    },
    {
      "cell_type": "code",
      "source": [
        "def count_classes(dataset):\n",
        "    classes = full_dataset.classes\n",
        "    class_count = {}\n",
        "    for _, index in dataset:\n",
        "        label = classes[index]\n",
        "        if label not in class_count:\n",
        "            class_count[label] = 0\n",
        "        class_count[label] += 1\n",
        "    return class_count"
      ],
      "metadata": {
        "id": "m0R1paASVqBq"
      },
      "execution_count": 5,
      "outputs": []
    },
    {
      "cell_type": "code",
      "source": [
        "def show_one_image_per_class(classes, dataset):\n",
        "    labels_map = {i: classes[i] for i in range(len(classes))}\n",
        "\n",
        "    figure = plt.figure(figsize=(10, 4))\n",
        "    cols, rows = 5, 2\n",
        "    for i in range(1, cols * rows + 1):\n",
        "        sample_idx = torch.randint(len(dataset), size=(1,)).item()\n",
        "        img, label = dataset[sample_idx]\n",
        "        figure.add_subplot(rows, cols, i)\n",
        "        plt.title(labels_map[label])\n",
        "        plt.axis(\"off\")\n",
        "        plt.imshow(img.squeeze().permute(1, 2, 0), cmap=\"gray\")\n",
        "    plt.show()"
      ],
      "metadata": {
        "id": "0vI_VQ9xXdfy"
      },
      "execution_count": 17,
      "outputs": []
    },
    {
      "cell_type": "markdown",
      "metadata": {
        "id": "hm3bg1Byy2Ws"
      },
      "source": [
        "# <b><FONT color='MidnightBlue' size='6'>Parte 1: Pytorch + SimpleCNN </FONT></b>"
      ]
    },
    {
      "cell_type": "markdown",
      "metadata": {
        "id": "-bg5-28Csend"
      },
      "source": [
        "## <b><FONT size=\"5\" color='MidnightBlue '>Actividad 1</FONT>\n",
        "\n"
      ]
    },
    {
      "cell_type": "markdown",
      "source": [
        "En primer lugar, se obtiene el dataset [CIFAR-10](https://www.cs.toronto.edu/%7Ekriz/cifar.html), previamente importada en la sección [Import of packages](#scrollTo=f8eg1lJrBW2J&line=1&uniqifier=1), mediante el método `datasets` de la librería `torchvision`."
      ],
      "metadata": {
        "id": "g9tCjgwZIPHS"
      }
    },
    {
      "cell_type": "code",
      "source": [
        "full_dataset = CIFAR10(root='./data', train=True, download=True, transform=ToTensor())\n",
        "cifar_testset = CIFAR10(root='./data', train=False, download=True, transform=ToTensor())"
      ],
      "metadata": {
        "colab": {
          "base_uri": "https://localhost:8080/"
        },
        "id": "3zLnwVo9JHQW",
        "outputId": "c35708a4-111a-4dc3-b8ba-9758e986f5ae"
      },
      "execution_count": 8,
      "outputs": [
        {
          "output_type": "stream",
          "name": "stdout",
          "text": [
            "Files already downloaded and verified\n",
            "Files already downloaded and verified\n"
          ]
        }
      ]
    },
    {
      "cell_type": "markdown",
      "source": [
        "Tal como se menciona en [[1]](#scrollTo=pszVawT9y6pE), si `train=True`, crea el conjunto de datos a partir del conjunto de entrenamiento, y si `train=False`, lo crea a partir del conjunto de prueba. De esta forma, se guarda en la variable `full_dataset` los datos de entrenamiento y en la variable `cifar_testset` los datos de testing. Por otro lado, `download=True` descarga el conjunto de datos de Internet y lo coloca en el directorio raíz, mientras que `transform=` recibe una función/transformación que recibe una imagen de la librería`PIL` y devuelve una versión transformada de la imagen [[1]](#scrollTo=pszVawT9y6pE)."
      ],
      "metadata": {
        "id": "3cSmYhjON6NF"
      }
    },
    {
      "cell_type": "markdown",
      "source": [
        "Se escoge la función `ToTensor()` para utilizar en `transform=`, la cual convierte una imagen cargada por la librería `PIL` o `ndarray` a tensor y escala los valores [[2]](#scrollTo=pszVawT9y6pE). Más específicamente, convierte una imagen (`PIL` o `numpy.ndarray`) `(H x W x C)`, donde `H` es la altura, `W` el ancho y `C` la cantidad de canales, en el rango [0, 255] a un `torch.FloatTensor` de forma (C x H x W) en el rango [0.0, 1.0] [[2]](#scrollTo=pszVawT9y6pE).\n",
        "\n",
        "La conversión de la imagen se realiza si esta pertenece a uno de los modos (L, LA, P, I, F, RGB, YCbCr, RGBA, CMYK, 1) o si el `numpy.ndarray` tiene `dtype = np.uint8`. En los demás casos, los tensores se devuelven sin escalar [[2]](#scrollTo=pszVawT9y6pE).\n",
        "\n",
        "Los tensores son objetos matemáticos que almacenan valores numéricos y que pueden tener distintas dimensiones [[3]](#scrollTo=pszVawT9y6pE). De esta forma,\n",
        "\n",
        "El uso de tensores en Aprendizaje Profundo se debe principalmente ... GPU [[4]](#scrollTo=pszVawT9y6pE)\n",
        "\n",
        "\n",
        "\n",
        "Explicar mi experiencia y la importancia de la conversión al realizar pos-procesamiento.\n",
        "\n",
        "Debido a que la imagen de entrada se escala a [0.0, 1.0], esta transformación no debe utilizarse cuando se transforman máscaras de imagen de destino. Consulte las referencias para implementar las transformaciones para máscaras de imagen.\n",
        "\n",
        "\n"
      ],
      "metadata": {
        "id": "N28_cVPwPrDJ"
      }
    },
    {
      "cell_type": "markdown",
      "metadata": {
        "id": "pszVawT9y6pE"
      },
      "source": [
        "#<b><FONT color='MidnightBlue' size='6'>Referencias </FONT></b>"
      ]
    },
    {
      "cell_type": "markdown",
      "source": [
        "<a id=\"1\">[1]</a>\n",
        "Torch Contributors, “CIFAR10,” CIFAR10 - Torchvision 0.17 documentation, https://pytorch.org/vision/0.17/generated/torchvision.datasets.CIFAR10.html (accessed Apr. 19, 2024).\n",
        "\n",
        "<a id=\"2\">[2]</a>\n",
        "Torch Contributors, “ToTensor,” ToTensor - Torchvision main documentation, https://pytorch.org/vision/main/generated/torchvision.transforms.ToTensor.html (accessed Apr. 19, 2024).\n",
        "\n",
        "<a id=\"3\">[3]</a>\n",
        "A. Krizhevsky, “The CIFAR-10 dataset,” CIFAR-10 and CIFAR-100 datasets, https://www.cs.toronto.edu/%7Ekriz/cifar.html (accessed Apr. 19, 2024).\n",
        "\n",
        "<a id=\"4\">[4]</a>\n",
        "P. Recuero de los Santos, “Deep learning para todos los públicos: ¿Qué son los tensores? ¿Qué es tensorflow?,” Deep Learning para todos los públicos: ¿Qué son los tensores? ¿Qué es TensorFlow?, https://telefonicatech.com/blog/deep-learning-para-todos-los-publicos (accessed Apr. 19, 2024).\n",
        "\n",
        "<a id=\"5\">[5]</a>\n",
        "S. Lozada, “Tensores Pytorch,” Medium, https://medium.com/latinxinai/tensores-pytorch-ea4ce8ce96dc (accessed Apr. 19, 2024).\n",
        "\n",
        "<a id=\"6\">[6]</a>\n",
        "\n",
        "<a id=\"7\">[7]</a>\n",
        "\n",
        "<a id=\"8\">[8]</a>\n",
        "\n",
        "<a id=\"9\">[9]</a>\n",
        "\n",
        "<a id=\"10\">[10]</a>\n",
        "\n",
        "<a id=\"11\">[11]</a>"
      ],
      "metadata": {
        "id": "wjkcIKxuy-jL"
      }
    },
    {
      "cell_type": "code",
      "source": [
        "classes = full_dataset.classes\n",
        "print(len(classes))\n",
        "classes"
      ],
      "metadata": {
        "colab": {
          "base_uri": "https://localhost:8080/"
        },
        "id": "QcUILJb3MLHD",
        "outputId": "2322136c-7f5e-4f70-e338-3f552cace289"
      },
      "execution_count": 20,
      "outputs": [
        {
          "output_type": "stream",
          "name": "stdout",
          "text": [
            "10\n"
          ]
        },
        {
          "output_type": "execute_result",
          "data": {
            "text/plain": [
              "['airplane',\n",
              " 'automobile',\n",
              " 'bird',\n",
              " 'cat',\n",
              " 'deer',\n",
              " 'dog',\n",
              " 'frog',\n",
              " 'horse',\n",
              " 'ship',\n",
              " 'truck']"
            ]
          },
          "metadata": {},
          "execution_count": 20
        }
      ]
    },
    {
      "cell_type": "code",
      "source": [
        "print(len(full_dataset))\n",
        "print(len(cifar_testset))"
      ],
      "metadata": {
        "colab": {
          "base_uri": "https://localhost:8080/"
        },
        "id": "GyZ3SSgxbXlw",
        "outputId": "9eec479a-852b-4c14-ab01-c744c2d23786"
      },
      "execution_count": 12,
      "outputs": [
        {
          "output_type": "stream",
          "name": "stdout",
          "text": [
            "50000\n",
            "10000\n"
          ]
        }
      ]
    },
    {
      "cell_type": "code",
      "source": [
        "full_dataset_classes = count_classes(full_dataset)\n",
        "cifar_testset_classes = count_classes(cifar_testset)"
      ],
      "metadata": {
        "id": "b28bvEvUGTA1"
      },
      "execution_count": 11,
      "outputs": []
    },
    {
      "cell_type": "code",
      "source": [
        "plot_histogram_classes(full_dataset_classes, 'Full Train Dataset')"
      ],
      "metadata": {
        "colab": {
          "base_uri": "https://localhost:8080/",
          "height": 407
        },
        "id": "G5A4KadkHhuJ",
        "outputId": "1c6252bc-1cd8-4f95-a874-33df7c00a12d"
      },
      "execution_count": 15,
      "outputs": [
        {
          "output_type": "display_data",
          "data": {
            "text/plain": [
              "<Figure size 800x400 with 1 Axes>"
            ],
            "image/png": "[encoded data removed]"
          },
          "metadata": {}
        }
      ]
    },
    {
      "cell_type": "code",
      "source": [
        "plot_histogram_classes(cifar_testset_classes, 'Test Dataset')"
      ],
      "metadata": {
        "colab": {
          "base_uri": "https://localhost:8080/",
          "height": 407
        },
        "id": "iFnZp7e8HlfK",
        "outputId": "1de2b3e1-d153-4e63-9101-28933e40ba5c"
      },
      "execution_count": 16,
      "outputs": [
        {
          "output_type": "display_data",
          "data": {
            "text/plain": [
              "<Figure size 800x400 with 1 Axes>"
            ],
            "image/png": "[encoded data removed]"
          },
          "metadata": {}
        }
      ]
    },
    {
      "cell_type": "code",
      "source": [
        "show_one_image_per_class(classes, full_dataset)"
      ],
      "metadata": {
        "colab": {
          "base_uri": "https://localhost:8080/",
          "height": 360
        },
        "id": "evzE12vBMLak",
        "outputId": "38e4dbb0-8fba-449a-980f-f63da653f156"
      },
      "execution_count": 18,
      "outputs": [
        {
          "output_type": "display_data",
          "data": {
            "text/plain": [
              "<Figure size 1000x400 with 10 Axes>"
            ],
            "image/png": "[encoded data removed]"
          },
          "metadata": {}
        }
      ]
    },
    {
      "cell_type": "markdown",
      "source": [
        "Importancia de la separación:\n",
        "\n",
        "De acuerdo con las directrices del documento propuesto, se ha llevado a cabo una separación de la base de datos en tres conjuntos tradicionales: formación, validación y prueba. La importancia de esta separación radica en la necesidad de evaluar y mejorar el rendimiento del modelo de forma objetiva y fiable. Además, tal y como se indica en el apartado \\hyperref[sec:preliminaries]{\\ref{sec:preliminaries} Preliminares}, al no existir un conjunto de validación, se añade, con el fin de dar una estimación no sesgada de la competencia del modelo final ajustado a la hora de comparar o seleccionar entre modelos finales \\cite{porque-validacion}.\n",
        "\n",
        "Traducción realizada con la versión gratuita del traductor www.DeepL.com/Translator\n",
        "\n",
        "https://machinelearningmastery.com/train-test-split-for-evaluating-machine-learning-algorithms/"
      ],
      "metadata": {
        "id": "noiGOtaPHA2c"
      }
    },
    {
      "cell_type": "markdown",
      "source": [
        "Separación porcentajes :\n",
        "\n",
        "La divisi´on de datos entre los distintos sets se ha hecho de forma aleatoria y se puede ver en\n",
        "las im´agenes 2 y 3. En general, colocar el 80% de los datos en el conjunto de entrenamiento,\n",
        "el 10% en el conjunto de validaci´on y el 10% en el conjunto de prueba es una buena divisi´on\n",
        "para empezar [1].\n",
        "\n",
        "https://www.v7labs.com/blog/train-validation-test-set"
      ],
      "metadata": {
        "id": "z68qmwEoGdy8"
      }
    },
    {
      "cell_type": "code",
      "source": [],
      "metadata": {
        "colab": {
          "base_uri": "https://localhost:8080/",
          "height": 162
        },
        "id": "Eu4egBJ8Nh4d",
        "outputId": "fc66ca73-10c7-4874-8848-357737af01ac"
      },
      "execution_count": 42,
      "outputs": [
        {
          "output_type": "error",
          "ename": "RuntimeError",
          "evalue": "Boolean value of Tensor with more than one value is ambiguous",
          "traceback": [
            "\u001b[0;31m---------------------------------------------------------------------------\u001b[0m",
            "\u001b[0;31mRuntimeError\u001b[0m                              Traceback (most recent call last)",
            "\u001b[0;32m<ipython-input-42-4948aab957c0>\u001b[0m in \u001b[0;36m<cell line: 1>\u001b[0;34m()\u001b[0m\n\u001b[0;32m----> 1\u001b[0;31m \u001b[0;32mif\u001b[0m \u001b[0mfull_dataset\u001b[0m\u001b[0;34m[\u001b[0m\u001b[0;36m0\u001b[0m\u001b[0;34m]\u001b[0m\u001b[0;34m[\u001b[0m\u001b[0;36m0\u001b[0m\u001b[0;34m]\u001b[0m \u001b[0;34m==\u001b[0m \u001b[0mfull_dataset\u001b[0m\u001b[0;34m[\u001b[0m\u001b[0;36m0\u001b[0m\u001b[0;34m]\u001b[0m\u001b[0;34m[\u001b[0m\u001b[0;36m0\u001b[0m\u001b[0;34m]\u001b[0m\u001b[0;34m:\u001b[0m\u001b[0;34m\u001b[0m\u001b[0;34m\u001b[0m\u001b[0m\n\u001b[0m\u001b[1;32m      2\u001b[0m     \u001b[0mprint\u001b[0m\u001b[0;34m(\u001b[0m\u001b[0;36m1\u001b[0m\u001b[0;34m)\u001b[0m\u001b[0;34m\u001b[0m\u001b[0;34m\u001b[0m\u001b[0m\n",
            "\u001b[0;31mRuntimeError\u001b[0m: Boolean value of Tensor with more than one value is ambiguous"
          ]
        }
      ]
    },
    {
      "cell_type": "code",
      "source": [
        "cifar_trainset_classes"
      ],
      "metadata": {
        "colab": {
          "base_uri": "https://localhost:8080/"
        },
        "outputId": "693870f9-f47a-4256-8048-10a569ca4c18",
        "id": "LfyymilwSdAY"
      },
      "execution_count": 29,
      "outputs": [
        {
          "output_type": "execute_result",
          "data": {
            "text/plain": [
              "{'frog': 4480,\n",
              " 'deer': 4506,\n",
              " 'horse': 4502,\n",
              " 'automobile': 4528,\n",
              " 'dog': 4490,\n",
              " 'truck': 4520,\n",
              " 'cat': 4466,\n",
              " 'bird': 4502,\n",
              " 'airplane': 4495,\n",
              " 'ship': 4511}"
            ]
          },
          "metadata": {},
          "execution_count": 29
        }
      ]
    },
    {
      "cell_type": "code",
      "source": [],
      "metadata": {
        "id": "bM-5sMcfSWtX"
      },
      "execution_count": null,
      "outputs": []
    },
    {
      "cell_type": "code",
      "source": [
        "batch_size=128"
      ],
      "metadata": {
        "id": "6hSoAdWJLdAN"
      },
      "execution_count": null,
      "outputs": []
    },
    {
      "cell_type": "code",
      "source": [
        "train_loader = torch.utils.data.DataLoader(cifar_trainset, batch_size=batch_size, shuffle=True)\n",
        "test_loader = torch.utils.data.DataLoader(cifar_testset, batch_size=100, shuffle=False)"
      ],
      "metadata": {
        "id": "NDj3ApAbSPxd"
      },
      "execution_count": null,
      "outputs": []
    },
    {
      "cell_type": "markdown",
      "source": [
        "* ¿Que hace el parámetro shuffle en los DataLoaders de Pytorch, debemos usarlos para ambos datasets? ¿Por qué?"
      ],
      "metadata": {
        "id": "sx2L7YLnM6zy"
      }
    },
    {
      "cell_type": "markdown",
      "source": [
        "* ¿Que podemos ver de las distribuciones? ¿Cuál es el impacto del balance de una base de datos en Deep Learning y Computer Vision (CV)?"
      ],
      "metadata": {
        "id": "t8M7qQVVMwG2"
      }
    },
    {
      "cell_type": "markdown",
      "source": [
        "Texto [[20]](#20).\n",
        "\n",
        "https://medium.com/@sergioalves94/deep-learning-in-pytorch-with-cifar-10-dataset-858b504a6b54\n",
        "\n",
        "https://medium.com/analytics-vidhya/classifying-cifar-10-using-a-simple-cnn-4e9a6dd7600b\n",
        "\n",
        "\n",
        "\n",
        "https://www.datascienceweekly.org/tutorials/cifar10-pytorch-load-cifar10-dataset-from-torchvision\n",
        "\n",
        "\n",
        "https://pytorch.org/vision/0.17/generated/torchvision.datasets.CIFAR10.html\n",
        "\n",
        "https://pytorch.org/tutorials/beginner/basics/data_tutorial.html\n",
        "\n",
        "https://pytorch.org/tutorials/beginner/blitz/cifar10_tutorial.html\n",
        "\n",
        "https://pytorch.org/docs/stable/generated/torch.squeeze.html#torch.squeeze\n",
        "\n",
        "https://stackoverflow.com/questions/53623472/how-do-i-display-a-single-image-in-pytorch\n",
        "\n",
        "https://www.geeksforgeeks.org/implementation-of-a-cnn-based-image-classifier-using-pytorch/\n",
        "\n",
        "https://www.analyticsvidhya.com/blog/2021/09/convolutional-neural-network-pytorch-implementation-on-cifar10-dataset/\n",
        "\n"
      ],
      "metadata": {
        "id": "M5_YF4TV1Sg0"
      }
    },
    {
      "cell_type": "markdown",
      "metadata": {
        "id": "2TEGgvQmsnbj"
      },
      "source": [
        "## <b><FONT size=\"5\" color='MidnightBlue '>Actividad 2</FONT>\n",
        "\n"
      ]
    },
    {
      "cell_type": "code",
      "source": [
        "class SimpleCNN(torch.nn.Module):\n",
        "    def __init__(self):\n",
        "        super().__init__()\n",
        "        self.model = torch.nn.Sequential(\n",
        "            #Input = 3 x 32 x 32, Output = 6 x 28 x 28\n",
        "            torch.nn.Conv2d(in_channels = 3, out_channels = 6, kernel_size = 5, stride = 1, padding = 0),\n",
        "            torch.nn.ReLU(),\n",
        "            #Input = 6 x 28 x 28, Output = 6 x 14 x 14\n",
        "            torch.nn.MaxPool2d(kernel_size = 2, stride = 2),\n",
        "\n",
        "            #Input = 6 x 14 x 14, Output = 16 x 10 x 10\n",
        "            torch.nn.Conv2d(in_channels = 6, out_channels = 16, kernel_size = 5, stride = 1, padding = 0),\n",
        "            torch.nn.ReLU(),\n",
        "            #Input = 16 x 10 x 10, Output = 16 x 5 x 5\n",
        "            torch.nn.MaxPool2d(kernel_size = 2, stride = 2),\n",
        "\n",
        "            torch.nn.Flatten(),\n",
        "            torch.nn.Linear(16 * 5 * 5, 120),\n",
        "            torch.nn.ReLU(),\n",
        "            torch.nn.Linear(120, 84),\n",
        "            torch.nn.ReLU(),\n",
        "            torch.nn.Linear(84, 10)\n",
        "        )\n",
        "\n",
        "    def forward(self, x):\n",
        "        return self.model(x)"
      ],
      "metadata": {
        "id": "iMfNSOJwNSFM"
      },
      "execution_count": 19,
      "outputs": []
    },
    {
      "cell_type": "code",
      "source": [
        "#Selecting the appropriate training device\n",
        "device = 'cuda' if torch.cuda.is_available() else 'cpu'\n",
        "model = SimpleCNN().to(device)"
      ],
      "metadata": {
        "id": "ubFAb_IaACMY"
      },
      "execution_count": 20,
      "outputs": []
    },
    {
      "cell_type": "code",
      "source": [
        "print(model)"
      ],
      "metadata": {
        "colab": {
          "base_uri": "https://localhost:8080/"
        },
        "id": "GktxAlyGAMr3",
        "outputId": "8275e041-f176-474d-c095-ade7832433a0"
      },
      "execution_count": 21,
      "outputs": [
        {
          "output_type": "stream",
          "name": "stdout",
          "text": [
            "SimpleCNN(\n",
            "  (model): Sequential(\n",
            "    (0): Conv2d(3, 6, kernel_size=(5, 5), stride=(1, 1))\n",
            "    (1): ReLU()\n",
            "    (2): MaxPool2d(kernel_size=2, stride=2, padding=0, dilation=1, ceil_mode=False)\n",
            "    (3): Conv2d(6, 16, kernel_size=(5, 5), stride=(1, 1))\n",
            "    (4): ReLU()\n",
            "    (5): MaxPool2d(kernel_size=2, stride=2, padding=0, dilation=1, ceil_mode=False)\n",
            "    (6): Flatten(start_dim=1, end_dim=-1)\n",
            "    (7): Linear(in_features=400, out_features=120, bias=True)\n",
            "    (8): ReLU()\n",
            "    (9): Linear(in_features=120, out_features=84, bias=True)\n",
            "    (10): ReLU()\n",
            "    (11): Linear(in_features=84, out_features=10, bias=True)\n",
            "  )\n",
            ")\n"
          ]
        }
      ]
    },
    {
      "cell_type": "code",
      "execution_count": 35,
      "metadata": {
        "id": "qyzL2xjrNRhZ"
      },
      "outputs": [],
      "source": [
        "model_graph_1 = draw_graph(\n",
        "    SimpleCNN(), input_size=(1, 3, 32, 32),\n",
        "    graph_name='SimpleCNN',\n",
        "    hide_inner_tensors=False,\n",
        "    hide_module_functions=False,\n",
        "    expand_nested=True\n",
        ")"
      ]
    },
    {
      "cell_type": "code",
      "source": [
        "model_graph_1.resize_graph(scale=0.5)"
      ],
      "metadata": {
        "id": "oqk1KlOxDFas"
      },
      "execution_count": 31,
      "outputs": []
    },
    {
      "cell_type": "code",
      "execution_count": 36,
      "metadata": {
        "id": "h7O2V3mENRhZ",
        "outputId": "92a6e7f2-87ac-4832-d706-90e556e82041",
        "colab": {
          "base_uri": "https://localhost:8080/",
          "height": 1000
        }
      },
      "outputs": [
        {
          "output_type": "execute_result",
          "data": {
            "image/svg+xml": "<?xml version=\"1.0\" encoding=\"UTF-8\" standalone=\"no\"?>\n<!DOCTYPE svg PUBLIC \"-//W3C//DTD SVG 1.1//EN\"\n \"http://www.w3.org/Graphics/SVG/1.1/DTD/svg11.dtd\">\n<!-- Generated by graphviz version 2.43.0 (0)\n -->\n<!-- Title: SimpleCNN Pages: 1 -->\n<svg width=\"287pt\" height=\"1901pt\"\n viewBox=\"0.00 0.00 287.35 1901.00\" xmlns=\"http://www.w3.org/2000/svg\" xmlns:xlink=\"http://www.w3.org/1999/xlink\">\n<g id=\"graph0\" class=\"graph\" transform=\"scale(1.02 1.02) rotate(0) translate(4 1941)\">\n<title>SimpleCNN</title>\n<polygon fill=\"white\" stroke=\"transparent\" points=\"-4,4 -4,-1941 290,-1941 290,4 -4,4\"/>\n<g id=\"clust1\" class=\"cluster\">\n<title>cluster_2</title>\n<polygon fill=\"none\" stroke=\"black\" stroke-dasharray=\"5,2\" points=\"8,-8 8,-1897 278,-1897 278,-8 8,-8\"/>\n<text text-anchor=\"middle\" x=\"41\" y=\"-1883.4\" font-family=\"Times,serif\" font-size=\"12.00\">Sequential</text>\n</g>\n<g id=\"clust2\" class=\"cluster\">\n<title>cluster_3</title>\n<polygon fill=\"none\" stroke=\"black\" stroke-dasharray=\"5,2\" points=\"29,-1721 29,-1868 257,-1868 257,-1721 29,-1721\"/>\n<text text-anchor=\"middle\" x=\"56.5\" y=\"-1854.4\" font-family=\"Times,serif\" font-size=\"12.00\">Conv2d</text>\n</g>\n<g id=\"clust3\" class=\"cluster\">\n<title>cluster_4</title>\n<polygon fill=\"none\" stroke=\"black\" stroke-dasharray=\"5,2\" points=\"29,-1566 29,-1713 257,-1713 257,-1566 29,-1566\"/>\n<text text-anchor=\"middle\" x=\"52.5\" y=\"-1699.4\" font-family=\"Times,serif\" font-size=\"12.00\">ReLU</text>\n</g>\n<g id=\"clust4\" class=\"cluster\">\n<title>cluster_5</title>\n<polygon fill=\"none\" stroke=\"black\" stroke-dasharray=\"5,2\" points=\"20,-1411 20,-1558 266,-1558 266,-1411 20,-1411\"/>\n<text text-anchor=\"middle\" x=\"56\" y=\"-1544.4\" font-family=\"Times,serif\" font-size=\"12.00\">MaxPool2d</text>\n</g>\n<g id=\"clust5\" class=\"cluster\">\n<title>cluster_6</title>\n<polygon fill=\"none\" stroke=\"black\" stroke-dasharray=\"5,2\" points=\"25,-1256 25,-1403 261,-1403 261,-1256 25,-1256\"/>\n<text text-anchor=\"middle\" x=\"52.5\" y=\"-1389.4\" font-family=\"Times,serif\" font-size=\"12.00\">Conv2d</text>\n</g>\n<g id=\"clust6\" class=\"cluster\">\n<title>cluster_7</title>\n<polygon fill=\"none\" stroke=\"black\" stroke-dasharray=\"5,2\" points=\"25,-1101 25,-1248 261,-1248 261,-1101 25,-1101\"/>\n<text text-anchor=\"middle\" x=\"48.5\" y=\"-1234.4\" font-family=\"Times,serif\" font-size=\"12.00\">ReLU</text>\n</g>\n<g id=\"clust7\" class=\"cluster\">\n<title>cluster_8</title>\n<polygon fill=\"none\" stroke=\"black\" stroke-dasharray=\"5,2\" points=\"16,-946 16,-1093 270,-1093 270,-946 16,-946\"/>\n<text text-anchor=\"middle\" x=\"52\" y=\"-1079.4\" font-family=\"Times,serif\" font-size=\"12.00\">MaxPool2d</text>\n</g>\n<g id=\"clust8\" class=\"cluster\">\n<title>cluster_9</title>\n<polygon fill=\"none\" stroke=\"black\" stroke-dasharray=\"5,2\" points=\"31,-791 31,-938 255,-938 255,-791 31,-791\"/>\n<text text-anchor=\"middle\" x=\"55.5\" y=\"-924.4\" font-family=\"Times,serif\" font-size=\"12.00\">Flatten</text>\n</g>\n<g id=\"clust9\" class=\"cluster\">\n<title>cluster_10</title>\n<polygon fill=\"none\" stroke=\"black\" stroke-dasharray=\"5,2\" points=\"47,-636 47,-783 239,-783 239,-636 47,-636\"/>\n<text text-anchor=\"middle\" x=\"70.5\" y=\"-769.4\" font-family=\"Times,serif\" font-size=\"12.00\">Linear</text>\n</g>\n<g id=\"clust10\" class=\"cluster\">\n<title>cluster_11</title>\n<polygon fill=\"none\" stroke=\"black\" stroke-dasharray=\"5,2\" points=\"47,-481 47,-628 239,-628 239,-481 47,-481\"/>\n<text text-anchor=\"middle\" x=\"70.5\" y=\"-614.4\" font-family=\"Times,serif\" font-size=\"12.00\">ReLU</text>\n</g>\n<g id=\"clust11\" class=\"cluster\">\n<title>cluster_12</title>\n<polygon fill=\"none\" stroke=\"black\" stroke-dasharray=\"5,2\" points=\"47,-326 47,-473 239,-473 239,-326 47,-326\"/>\n<text text-anchor=\"middle\" x=\"70.5\" y=\"-459.4\" font-family=\"Times,serif\" font-size=\"12.00\">Linear</text>\n</g>\n<g id=\"clust12\" class=\"cluster\">\n<title>cluster_13</title>\n<polygon fill=\"none\" stroke=\"black\" stroke-dasharray=\"5,2\" points=\"49,-171 49,-318 237,-318 237,-171 49,-171\"/>\n<text text-anchor=\"middle\" x=\"72.5\" y=\"-304.4\" font-family=\"Times,serif\" font-size=\"12.00\">ReLU</text>\n</g>\n<g id=\"clust13\" class=\"cluster\">\n<title>cluster_14</title>\n<polygon fill=\"none\" stroke=\"black\" stroke-dasharray=\"5,2\" points=\"49,-16 49,-163 237,-163 237,-16 49,-16\"/>\n<text text-anchor=\"middle\" x=\"72.5\" y=\"-149.4\" font-family=\"Times,serif\" font-size=\"12.00\">Linear</text>\n</g>\n<!-- 0 -->\n<g id=\"node1\" class=\"node\">\n<title>0</title>\n<polygon fill=\"lightyellow\" stroke=\"transparent\" points=\"232,-1937 54,-1937 54,-1905 232,-1905 232,-1937\"/>\n<polygon fill=\"none\" stroke=\"black\" points=\"54,-1905 54,-1937 137,-1937 137,-1905 54,-1905\"/>\n<text text-anchor=\"start\" x=\"59\" y=\"-1924\" font-family=\"Linux libertine\" font-size=\"10.00\">input&#45;tensor</text>\n<text text-anchor=\"start\" x=\"74\" y=\"-1913\" font-family=\"Linux libertine\" font-size=\"10.00\">depth:0</text>\n<polygon fill=\"none\" stroke=\"black\" points=\"137,-1905 137,-1937 232,-1937 232,-1905 137,-1905\"/>\n<text text-anchor=\"start\" x=\"142\" y=\"-1918.5\" font-family=\"Linux libertine\" font-size=\"10.00\">(1, 3, 32, 32)</text>\n</g>\n<!-- 1 -->\n<g id=\"node2\" class=\"node\">\n<title>1</title>\n<polygon fill=\"aliceblue\" stroke=\"transparent\" points=\"249.5,-1839 36.5,-1839 36.5,-1797 249.5,-1797 249.5,-1839\"/>\n<polygon fill=\"none\" stroke=\"black\" points=\"37,-1797 37,-1839 90,-1839 90,-1797 37,-1797\"/>\n<text text-anchor=\"start\" x=\"45\" y=\"-1821\" font-family=\"Linux libertine\" font-size=\"10.00\">conv2d</text>\n<text text-anchor=\"start\" x=\"42\" y=\"-1810\" font-family=\"Linux libertine\" font-size=\"10.00\">depth:3</text>\n<polygon fill=\"none\" stroke=\"black\" points=\"90,-1818 90,-1839 149,-1839 149,-1818 90,-1818\"/>\n<text text-anchor=\"start\" x=\"101\" y=\"-1826\" font-family=\"Linux libertine\" font-size=\"10.00\">input:</text>\n<polygon fill=\"none\" stroke=\"black\" points=\"149,-1818 149,-1839 250,-1839 250,-1818 149,-1818\"/>\n<text text-anchor=\"start\" x=\"154\" y=\"-1826\" font-family=\"Linux libertine\" font-size=\"10.00\">(1, 3, 32, 32) </text>\n<polygon fill=\"none\" stroke=\"black\" points=\"90,-1797 90,-1818 149,-1818 149,-1797 90,-1797\"/>\n<text text-anchor=\"start\" x=\"95\" y=\"-1805\" font-family=\"Linux libertine\" font-size=\"10.00\">output: </text>\n<polygon fill=\"none\" stroke=\"black\" points=\"149,-1797 149,-1818 250,-1818 250,-1797 149,-1797\"/>\n<text text-anchor=\"start\" x=\"154\" y=\"-1805\" font-family=\"Linux libertine\" font-size=\"10.00\">(1, 6, 28, 28) </text>\n</g>\n<!-- 0&#45;&gt;1 -->\n<g id=\"edge1\" class=\"edge\">\n<title>0&#45;&gt;1</title>\n<path fill=\"none\" stroke=\"black\" d=\"M143,-1904.66C143,-1889.99 143,-1867.46 143,-1849.19\"/>\n<polygon fill=\"black\" stroke=\"black\" points=\"146.5,-1849.02 143,-1839.02 139.5,-1849.02 146.5,-1849.02\"/>\n</g>\n<!-- 2 -->\n<g id=\"node3\" class=\"node\">\n<title>2</title>\n<polygon fill=\"lightyellow\" stroke=\"transparent\" points=\"235,-1761 51,-1761 51,-1729 235,-1729 235,-1761\"/>\n<polygon fill=\"none\" stroke=\"black\" points=\"51,-1729 51,-1761 140,-1761 140,-1729 51,-1729\"/>\n<text text-anchor=\"start\" x=\"56\" y=\"-1748\" font-family=\"Linux libertine\" font-size=\"10.00\">hidden&#45;tensor</text>\n<text text-anchor=\"start\" x=\"74\" y=\"-1737\" font-family=\"Linux libertine\" font-size=\"10.00\">depth:2</text>\n<polygon fill=\"none\" stroke=\"black\" points=\"140,-1729 140,-1761 235,-1761 235,-1729 140,-1729\"/>\n<text text-anchor=\"start\" x=\"145\" y=\"-1742.5\" font-family=\"Linux libertine\" font-size=\"10.00\">(1, 6, 28, 28)</text>\n</g>\n<!-- 1&#45;&gt;2 -->\n<g id=\"edge2\" class=\"edge\">\n<title>1&#45;&gt;2</title>\n<path fill=\"none\" stroke=\"black\" d=\"M143,-1796.84C143,-1788.89 143,-1779.66 143,-1771.26\"/>\n<polygon fill=\"black\" stroke=\"black\" points=\"146.5,-1771.24 143,-1761.24 139.5,-1771.24 146.5,-1771.24\"/>\n</g>\n<!-- 3 -->\n<g id=\"node4\" class=\"node\">\n<title>3</title>\n<polygon fill=\"aliceblue\" stroke=\"transparent\" points=\"249.5,-1684 36.5,-1684 36.5,-1642 249.5,-1642 249.5,-1684\"/>\n<polygon fill=\"none\" stroke=\"black\" points=\"37,-1642 37,-1684 90,-1684 90,-1642 37,-1642\"/>\n<text text-anchor=\"start\" x=\"51\" y=\"-1666\" font-family=\"Linux libertine\" font-size=\"10.00\">relu</text>\n<text text-anchor=\"start\" x=\"42\" y=\"-1655\" font-family=\"Linux libertine\" font-size=\"10.00\">depth:3</text>\n<polygon fill=\"none\" stroke=\"black\" points=\"90,-1663 90,-1684 149,-1684 149,-1663 90,-1663\"/>\n<text text-anchor=\"start\" x=\"101\" y=\"-1671\" font-family=\"Linux libertine\" font-size=\"10.00\">input:</text>\n<polygon fill=\"none\" stroke=\"black\" points=\"149,-1663 149,-1684 250,-1684 250,-1663 149,-1663\"/>\n<text text-anchor=\"start\" x=\"154\" y=\"-1671\" font-family=\"Linux libertine\" font-size=\"10.00\">(1, 6, 28, 28) </text>\n<polygon fill=\"none\" stroke=\"black\" points=\"90,-1642 90,-1663 149,-1663 149,-1642 90,-1642\"/>\n<text text-anchor=\"start\" x=\"95\" y=\"-1650\" font-family=\"Linux libertine\" font-size=\"10.00\">output: </text>\n<polygon fill=\"none\" stroke=\"black\" points=\"149,-1642 149,-1663 250,-1663 250,-1642 149,-1642\"/>\n<text text-anchor=\"start\" x=\"154\" y=\"-1650\" font-family=\"Linux libertine\" font-size=\"10.00\">(1, 6, 28, 28) </text>\n</g>\n<!-- 2&#45;&gt;3 -->\n<g id=\"edge3\" class=\"edge\">\n<title>2&#45;&gt;3</title>\n<path fill=\"none\" stroke=\"black\" d=\"M143,-1728.95C143,-1719.15 143,-1706.02 143,-1694.13\"/>\n<polygon fill=\"black\" stroke=\"black\" points=\"146.5,-1694.12 143,-1684.12 139.5,-1694.12 146.5,-1694.12\"/>\n</g>\n<!-- 4 -->\n<g id=\"node5\" class=\"node\">\n<title>4</title>\n<polygon fill=\"lightyellow\" stroke=\"transparent\" points=\"235,-1606 51,-1606 51,-1574 235,-1574 235,-1606\"/>\n<polygon fill=\"none\" stroke=\"black\" points=\"51,-1574 51,-1606 140,-1606 140,-1574 51,-1574\"/>\n<text text-anchor=\"start\" x=\"56\" y=\"-1593\" font-family=\"Linux libertine\" font-size=\"10.00\">hidden&#45;tensor</text>\n<text text-anchor=\"start\" x=\"74\" y=\"-1582\" font-family=\"Linux libertine\" font-size=\"10.00\">depth:2</text>\n<polygon fill=\"none\" stroke=\"black\" points=\"140,-1574 140,-1606 235,-1606 235,-1574 140,-1574\"/>\n<text text-anchor=\"start\" x=\"145\" y=\"-1587.5\" font-family=\"Linux libertine\" font-size=\"10.00\">(1, 6, 28, 28)</text>\n</g>\n<!-- 3&#45;&gt;4 -->\n<g id=\"edge4\" class=\"edge\">\n<title>3&#45;&gt;4</title>\n<path fill=\"none\" stroke=\"black\" d=\"M143,-1641.84C143,-1633.89 143,-1624.66 143,-1616.26\"/>\n<polygon fill=\"black\" stroke=\"black\" points=\"146.5,-1616.24 143,-1606.24 139.5,-1616.24 146.5,-1616.24\"/>\n</g>\n<!-- 5 -->\n<g id=\"node6\" class=\"node\">\n<title>5</title>\n<polygon fill=\"aliceblue\" stroke=\"transparent\" points=\"258.5,-1529 27.5,-1529 27.5,-1487 258.5,-1487 258.5,-1529\"/>\n<polygon fill=\"none\" stroke=\"black\" points=\"28,-1487 28,-1529 99,-1529 99,-1487 28,-1487\"/>\n<text text-anchor=\"start\" x=\"33\" y=\"-1511\" font-family=\"Linux libertine\" font-size=\"10.00\">max_pool2d</text>\n<text text-anchor=\"start\" x=\"42\" y=\"-1500\" font-family=\"Linux libertine\" font-size=\"10.00\">depth:3</text>\n<polygon fill=\"none\" stroke=\"black\" points=\"99,-1508 99,-1529 158,-1529 158,-1508 99,-1508\"/>\n<text text-anchor=\"start\" x=\"110\" y=\"-1516\" font-family=\"Linux libertine\" font-size=\"10.00\">input:</text>\n<polygon fill=\"none\" stroke=\"black\" points=\"158,-1508 158,-1529 259,-1529 259,-1508 158,-1508\"/>\n<text text-anchor=\"start\" x=\"163\" y=\"-1516\" font-family=\"Linux libertine\" font-size=\"10.00\">(1, 6, 28, 28) </text>\n<polygon fill=\"none\" stroke=\"black\" points=\"99,-1487 99,-1508 158,-1508 158,-1487 99,-1487\"/>\n<text text-anchor=\"start\" x=\"104\" y=\"-1495\" font-family=\"Linux libertine\" font-size=\"10.00\">output: </text>\n<polygon fill=\"none\" stroke=\"black\" points=\"158,-1487 158,-1508 259,-1508 259,-1487 158,-1487\"/>\n<text text-anchor=\"start\" x=\"163\" y=\"-1495\" font-family=\"Linux libertine\" font-size=\"10.00\">(1, 6, 14, 14) </text>\n</g>\n<!-- 4&#45;&gt;5 -->\n<g id=\"edge5\" class=\"edge\">\n<title>4&#45;&gt;5</title>\n<path fill=\"none\" stroke=\"black\" d=\"M143,-1573.95C143,-1564.15 143,-1551.02 143,-1539.13\"/>\n<polygon fill=\"black\" stroke=\"black\" points=\"146.5,-1539.12 143,-1529.12 139.5,-1539.12 146.5,-1539.12\"/>\n</g>\n<!-- 6 -->\n<g id=\"node7\" class=\"node\">\n<title>6</title>\n<polygon fill=\"lightyellow\" stroke=\"transparent\" points=\"235,-1451 51,-1451 51,-1419 235,-1419 235,-1451\"/>\n<polygon fill=\"none\" stroke=\"black\" points=\"51,-1419 51,-1451 140,-1451 140,-1419 51,-1419\"/>\n<text text-anchor=\"start\" x=\"56\" y=\"-1438\" font-family=\"Linux libertine\" font-size=\"10.00\">hidden&#45;tensor</text>\n<text text-anchor=\"start\" x=\"74\" y=\"-1427\" font-family=\"Linux libertine\" font-size=\"10.00\">depth:2</text>\n<polygon fill=\"none\" stroke=\"black\" points=\"140,-1419 140,-1451 235,-1451 235,-1419 140,-1419\"/>\n<text text-anchor=\"start\" x=\"145\" y=\"-1432.5\" font-family=\"Linux libertine\" font-size=\"10.00\">(1, 6, 14, 14)</text>\n</g>\n<!-- 5&#45;&gt;6 -->\n<g id=\"edge6\" class=\"edge\">\n<title>5&#45;&gt;6</title>\n<path fill=\"none\" stroke=\"black\" d=\"M143,-1486.84C143,-1478.89 143,-1469.66 143,-1461.26\"/>\n<polygon fill=\"black\" stroke=\"black\" points=\"146.5,-1461.24 143,-1451.24 139.5,-1461.24 146.5,-1461.24\"/>\n</g>\n<!-- 7 -->\n<g id=\"node8\" class=\"node\">\n<title>7</title>\n<polygon fill=\"aliceblue\" stroke=\"transparent\" points=\"252.5,-1374 33.5,-1374 33.5,-1332 252.5,-1332 252.5,-1374\"/>\n<polygon fill=\"none\" stroke=\"black\" points=\"34,-1332 34,-1374 87,-1374 87,-1332 34,-1332\"/>\n<text text-anchor=\"start\" x=\"42\" y=\"-1356\" font-family=\"Linux libertine\" font-size=\"10.00\">conv2d</text>\n<text text-anchor=\"start\" x=\"39\" y=\"-1345\" font-family=\"Linux libertine\" font-size=\"10.00\">depth:3</text>\n<polygon fill=\"none\" stroke=\"black\" points=\"87,-1353 87,-1374 146,-1374 146,-1353 87,-1353\"/>\n<text text-anchor=\"start\" x=\"98\" y=\"-1361\" font-family=\"Linux libertine\" font-size=\"10.00\">input:</text>\n<polygon fill=\"none\" stroke=\"black\" points=\"146,-1353 146,-1374 253,-1374 253,-1353 146,-1353\"/>\n<text text-anchor=\"start\" x=\"154\" y=\"-1361\" font-family=\"Linux libertine\" font-size=\"10.00\">(1, 6, 14, 14) </text>\n<polygon fill=\"none\" stroke=\"black\" points=\"87,-1332 87,-1353 146,-1353 146,-1332 87,-1332\"/>\n<text text-anchor=\"start\" x=\"92\" y=\"-1340\" font-family=\"Linux libertine\" font-size=\"10.00\">output: </text>\n<polygon fill=\"none\" stroke=\"black\" points=\"146,-1332 146,-1353 253,-1353 253,-1332 146,-1332\"/>\n<text text-anchor=\"start\" x=\"151\" y=\"-1340\" font-family=\"Linux libertine\" font-size=\"10.00\">(1, 16, 10, 10) </text>\n</g>\n<!-- 6&#45;&gt;7 -->\n<g id=\"edge7\" class=\"edge\">\n<title>6&#45;&gt;7</title>\n<path fill=\"none\" stroke=\"black\" d=\"M143,-1418.95C143,-1409.15 143,-1396.02 143,-1384.13\"/>\n<polygon fill=\"black\" stroke=\"black\" points=\"146.5,-1384.12 143,-1374.12 139.5,-1384.12 146.5,-1384.12\"/>\n</g>\n<!-- 8 -->\n<g id=\"node9\" class=\"node\">\n<title>8</title>\n<polygon fill=\"lightyellow\" stroke=\"transparent\" points=\"238,-1296 48,-1296 48,-1264 238,-1264 238,-1296\"/>\n<polygon fill=\"none\" stroke=\"black\" points=\"48,-1264 48,-1296 137,-1296 137,-1264 48,-1264\"/>\n<text text-anchor=\"start\" x=\"53\" y=\"-1283\" font-family=\"Linux libertine\" font-size=\"10.00\">hidden&#45;tensor</text>\n<text text-anchor=\"start\" x=\"71\" y=\"-1272\" font-family=\"Linux libertine\" font-size=\"10.00\">depth:2</text>\n<polygon fill=\"none\" stroke=\"black\" points=\"137,-1264 137,-1296 238,-1296 238,-1264 137,-1264\"/>\n<text text-anchor=\"start\" x=\"142\" y=\"-1277.5\" font-family=\"Linux libertine\" font-size=\"10.00\">(1, 16, 10, 10)</text>\n</g>\n<!-- 7&#45;&gt;8 -->\n<g id=\"edge8\" class=\"edge\">\n<title>7&#45;&gt;8</title>\n<path fill=\"none\" stroke=\"black\" d=\"M143,-1331.84C143,-1323.89 143,-1314.66 143,-1306.26\"/>\n<polygon fill=\"black\" stroke=\"black\" points=\"146.5,-1306.24 143,-1296.24 139.5,-1306.24 146.5,-1306.24\"/>\n</g>\n<!-- 9 -->\n<g id=\"node10\" class=\"node\">\n<title>9</title>\n<polygon fill=\"aliceblue\" stroke=\"transparent\" points=\"252.5,-1219 33.5,-1219 33.5,-1177 252.5,-1177 252.5,-1219\"/>\n<polygon fill=\"none\" stroke=\"black\" points=\"34,-1177 34,-1219 87,-1219 87,-1177 34,-1177\"/>\n<text text-anchor=\"start\" x=\"48\" y=\"-1201\" font-family=\"Linux libertine\" font-size=\"10.00\">relu</text>\n<text text-anchor=\"start\" x=\"39\" y=\"-1190\" font-family=\"Linux libertine\" font-size=\"10.00\">depth:3</text>\n<polygon fill=\"none\" stroke=\"black\" points=\"87,-1198 87,-1219 146,-1219 146,-1198 87,-1198\"/>\n<text text-anchor=\"start\" x=\"98\" y=\"-1206\" font-family=\"Linux libertine\" font-size=\"10.00\">input:</text>\n<polygon fill=\"none\" stroke=\"black\" points=\"146,-1198 146,-1219 253,-1219 253,-1198 146,-1198\"/>\n<text text-anchor=\"start\" x=\"151\" y=\"-1206\" font-family=\"Linux libertine\" font-size=\"10.00\">(1, 16, 10, 10) </text>\n<polygon fill=\"none\" stroke=\"black\" points=\"87,-1177 87,-1198 146,-1198 146,-1177 87,-1177\"/>\n<text text-anchor=\"start\" x=\"92\" y=\"-1185\" font-family=\"Linux libertine\" font-size=\"10.00\">output: </text>\n<polygon fill=\"none\" stroke=\"black\" points=\"146,-1177 146,-1198 253,-1198 253,-1177 146,-1177\"/>\n<text text-anchor=\"start\" x=\"151\" y=\"-1185\" font-family=\"Linux libertine\" font-size=\"10.00\">(1, 16, 10, 10) </text>\n</g>\n<!-- 8&#45;&gt;9 -->\n<g id=\"edge9\" class=\"edge\">\n<title>8&#45;&gt;9</title>\n<path fill=\"none\" stroke=\"black\" d=\"M143,-1263.95C143,-1254.15 143,-1241.02 143,-1229.13\"/>\n<polygon fill=\"black\" stroke=\"black\" points=\"146.5,-1229.12 143,-1219.12 139.5,-1229.12 146.5,-1229.12\"/>\n</g>\n<!-- 10 -->\n<g id=\"node11\" class=\"node\">\n<title>10</title>\n<polygon fill=\"lightyellow\" stroke=\"transparent\" points=\"238,-1141 48,-1141 48,-1109 238,-1109 238,-1141\"/>\n<polygon fill=\"none\" stroke=\"black\" points=\"48,-1109 48,-1141 137,-1141 137,-1109 48,-1109\"/>\n<text text-anchor=\"start\" x=\"53\" y=\"-1128\" font-family=\"Linux libertine\" font-size=\"10.00\">hidden&#45;tensor</text>\n<text text-anchor=\"start\" x=\"71\" y=\"-1117\" font-family=\"Linux libertine\" font-size=\"10.00\">depth:2</text>\n<polygon fill=\"none\" stroke=\"black\" points=\"137,-1109 137,-1141 238,-1141 238,-1109 137,-1109\"/>\n<text text-anchor=\"start\" x=\"142\" y=\"-1122.5\" font-family=\"Linux libertine\" font-size=\"10.00\">(1, 16, 10, 10)</text>\n</g>\n<!-- 9&#45;&gt;10 -->\n<g id=\"edge10\" class=\"edge\">\n<title>9&#45;&gt;10</title>\n<path fill=\"none\" stroke=\"black\" d=\"M143,-1176.84C143,-1168.89 143,-1159.66 143,-1151.26\"/>\n<polygon fill=\"black\" stroke=\"black\" points=\"146.5,-1151.24 143,-1141.24 139.5,-1151.24 146.5,-1151.24\"/>\n</g>\n<!-- 11 -->\n<g id=\"node12\" class=\"node\">\n<title>11</title>\n<polygon fill=\"aliceblue\" stroke=\"transparent\" points=\"261.5,-1064 24.5,-1064 24.5,-1022 261.5,-1022 261.5,-1064\"/>\n<polygon fill=\"none\" stroke=\"black\" points=\"25,-1022 25,-1064 96,-1064 96,-1022 25,-1022\"/>\n<text text-anchor=\"start\" x=\"30\" y=\"-1046\" font-family=\"Linux libertine\" font-size=\"10.00\">max_pool2d</text>\n<text text-anchor=\"start\" x=\"39\" y=\"-1035\" font-family=\"Linux libertine\" font-size=\"10.00\">depth:3</text>\n<polygon fill=\"none\" stroke=\"black\" points=\"96,-1043 96,-1064 155,-1064 155,-1043 96,-1043\"/>\n<text text-anchor=\"start\" x=\"107\" y=\"-1051\" font-family=\"Linux libertine\" font-size=\"10.00\">input:</text>\n<polygon fill=\"none\" stroke=\"black\" points=\"155,-1043 155,-1064 262,-1064 262,-1043 155,-1043\"/>\n<text text-anchor=\"start\" x=\"160\" y=\"-1051\" font-family=\"Linux libertine\" font-size=\"10.00\">(1, 16, 10, 10) </text>\n<polygon fill=\"none\" stroke=\"black\" points=\"96,-1022 96,-1043 155,-1043 155,-1022 96,-1022\"/>\n<text text-anchor=\"start\" x=\"101\" y=\"-1030\" font-family=\"Linux libertine\" font-size=\"10.00\">output: </text>\n<polygon fill=\"none\" stroke=\"black\" points=\"155,-1022 155,-1043 262,-1043 262,-1022 155,-1022\"/>\n<text text-anchor=\"start\" x=\"166\" y=\"-1030\" font-family=\"Linux libertine\" font-size=\"10.00\">(1, 16, 5, 5) </text>\n</g>\n<!-- 10&#45;&gt;11 -->\n<g id=\"edge11\" class=\"edge\">\n<title>10&#45;&gt;11</title>\n<path fill=\"none\" stroke=\"black\" d=\"M143,-1108.95C143,-1099.15 143,-1086.02 143,-1074.13\"/>\n<polygon fill=\"black\" stroke=\"black\" points=\"146.5,-1074.12 143,-1064.12 139.5,-1074.12 146.5,-1074.12\"/>\n</g>\n<!-- 12 -->\n<g id=\"node13\" class=\"node\">\n<title>12</title>\n<polygon fill=\"lightyellow\" stroke=\"transparent\" points=\"232,-986 54,-986 54,-954 232,-954 232,-986\"/>\n<polygon fill=\"none\" stroke=\"black\" points=\"54,-954 54,-986 143,-986 143,-954 54,-954\"/>\n<text text-anchor=\"start\" x=\"59\" y=\"-973\" font-family=\"Linux libertine\" font-size=\"10.00\">hidden&#45;tensor</text>\n<text text-anchor=\"start\" x=\"77\" y=\"-962\" font-family=\"Linux libertine\" font-size=\"10.00\">depth:2</text>\n<polygon fill=\"none\" stroke=\"black\" points=\"143,-954 143,-986 232,-986 232,-954 143,-954\"/>\n<text text-anchor=\"start\" x=\"148\" y=\"-967.5\" font-family=\"Linux libertine\" font-size=\"10.00\">(1, 16, 5, 5)</text>\n</g>\n<!-- 11&#45;&gt;12 -->\n<g id=\"edge12\" class=\"edge\">\n<title>11&#45;&gt;12</title>\n<path fill=\"none\" stroke=\"black\" d=\"M143,-1021.84C143,-1013.89 143,-1004.66 143,-996.26\"/>\n<polygon fill=\"black\" stroke=\"black\" points=\"146.5,-996.24 143,-986.24 139.5,-996.24 146.5,-996.24\"/>\n</g>\n<!-- 13 -->\n<g id=\"node14\" class=\"node\">\n<title>13</title>\n<polygon fill=\"aliceblue\" stroke=\"transparent\" points=\"246.5,-909 39.5,-909 39.5,-867 246.5,-867 246.5,-909\"/>\n<polygon fill=\"none\" stroke=\"black\" points=\"40,-867 40,-909 93,-909 93,-867 40,-867\"/>\n<text text-anchor=\"start\" x=\"45\" y=\"-891\" font-family=\"Linux libertine\" font-size=\"10.00\">flatten</text>\n<text text-anchor=\"start\" x=\"45\" y=\"-880\" font-family=\"Linux libertine\" font-size=\"10.00\">depth:3</text>\n<polygon fill=\"none\" stroke=\"black\" points=\"93,-888 93,-909 152,-909 152,-888 93,-888\"/>\n<text text-anchor=\"start\" x=\"104\" y=\"-896\" font-family=\"Linux libertine\" font-size=\"10.00\">input:</text>\n<polygon fill=\"none\" stroke=\"black\" points=\"152,-888 152,-909 247,-909 247,-888 152,-888\"/>\n<text text-anchor=\"start\" x=\"157\" y=\"-896\" font-family=\"Linux libertine\" font-size=\"10.00\">(1, 16, 5, 5) </text>\n<polygon fill=\"none\" stroke=\"black\" points=\"93,-867 93,-888 152,-888 152,-867 93,-867\"/>\n<text text-anchor=\"start\" x=\"98\" y=\"-875\" font-family=\"Linux libertine\" font-size=\"10.00\">output: </text>\n<polygon fill=\"none\" stroke=\"black\" points=\"152,-867 152,-888 247,-888 247,-867 152,-867\"/>\n<text text-anchor=\"start\" x=\"172\" y=\"-875\" font-family=\"Linux libertine\" font-size=\"10.00\">(1, 400) </text>\n</g>\n<!-- 12&#45;&gt;13 -->\n<g id=\"edge13\" class=\"edge\">\n<title>12&#45;&gt;13</title>\n<path fill=\"none\" stroke=\"black\" d=\"M143,-953.95C143,-944.15 143,-931.02 143,-919.13\"/>\n<polygon fill=\"black\" stroke=\"black\" points=\"146.5,-919.12 143,-909.12 139.5,-919.12 146.5,-919.12\"/>\n</g>\n<!-- 14 -->\n<g id=\"node15\" class=\"node\">\n<title>14</title>\n<polygon fill=\"lightyellow\" stroke=\"transparent\" points=\"217,-831 69,-831 69,-799 217,-799 217,-831\"/>\n<polygon fill=\"none\" stroke=\"black\" points=\"69,-799 69,-831 158,-831 158,-799 69,-799\"/>\n<text text-anchor=\"start\" x=\"74\" y=\"-818\" font-family=\"Linux libertine\" font-size=\"10.00\">hidden&#45;tensor</text>\n<text text-anchor=\"start\" x=\"92\" y=\"-807\" font-family=\"Linux libertine\" font-size=\"10.00\">depth:2</text>\n<polygon fill=\"none\" stroke=\"black\" points=\"158,-799 158,-831 217,-831 217,-799 158,-799\"/>\n<text text-anchor=\"start\" x=\"163\" y=\"-812.5\" font-family=\"Linux libertine\" font-size=\"10.00\">(1, 400)</text>\n</g>\n<!-- 13&#45;&gt;14 -->\n<g id=\"edge14\" class=\"edge\">\n<title>13&#45;&gt;14</title>\n<path fill=\"none\" stroke=\"black\" d=\"M143,-866.84C143,-858.89 143,-849.66 143,-841.26\"/>\n<polygon fill=\"black\" stroke=\"black\" points=\"146.5,-841.24 143,-831.24 139.5,-841.24 146.5,-841.24\"/>\n</g>\n<!-- 15 -->\n<g id=\"node16\" class=\"node\">\n<title>15</title>\n<polygon fill=\"aliceblue\" stroke=\"transparent\" points=\"231.5,-754 54.5,-754 54.5,-712 231.5,-712 231.5,-754\"/>\n<polygon fill=\"none\" stroke=\"black\" points=\"55,-712 55,-754 108,-754 108,-712 55,-712\"/>\n<text text-anchor=\"start\" x=\"63\" y=\"-736\" font-family=\"Linux libertine\" font-size=\"10.00\">linear</text>\n<text text-anchor=\"start\" x=\"60\" y=\"-725\" font-family=\"Linux libertine\" font-size=\"10.00\">depth:3</text>\n<polygon fill=\"none\" stroke=\"black\" points=\"108,-733 108,-754 167,-754 167,-733 108,-733\"/>\n<text text-anchor=\"start\" x=\"119\" y=\"-741\" font-family=\"Linux libertine\" font-size=\"10.00\">input:</text>\n<polygon fill=\"none\" stroke=\"black\" points=\"167,-733 167,-754 232,-754 232,-733 167,-733\"/>\n<text text-anchor=\"start\" x=\"172\" y=\"-741\" font-family=\"Linux libertine\" font-size=\"10.00\">(1, 400) </text>\n<polygon fill=\"none\" stroke=\"black\" points=\"108,-712 108,-733 167,-733 167,-712 108,-712\"/>\n<text text-anchor=\"start\" x=\"113\" y=\"-720\" font-family=\"Linux libertine\" font-size=\"10.00\">output: </text>\n<polygon fill=\"none\" stroke=\"black\" points=\"167,-712 167,-733 232,-733 232,-712 167,-712\"/>\n<text text-anchor=\"start\" x=\"172\" y=\"-720\" font-family=\"Linux libertine\" font-size=\"10.00\">(1, 120) </text>\n</g>\n<!-- 14&#45;&gt;15 -->\n<g id=\"edge15\" class=\"edge\">\n<title>14&#45;&gt;15</title>\n<path fill=\"none\" stroke=\"black\" d=\"M143,-798.95C143,-789.15 143,-776.02 143,-764.13\"/>\n<polygon fill=\"black\" stroke=\"black\" points=\"146.5,-764.12 143,-754.12 139.5,-764.12 146.5,-764.12\"/>\n</g>\n<!-- 16 -->\n<g id=\"node17\" class=\"node\">\n<title>16</title>\n<polygon fill=\"lightyellow\" stroke=\"transparent\" points=\"217,-676 69,-676 69,-644 217,-644 217,-676\"/>\n<polygon fill=\"none\" stroke=\"black\" points=\"69,-644 69,-676 158,-676 158,-644 69,-644\"/>\n<text text-anchor=\"start\" x=\"74\" y=\"-663\" font-family=\"Linux libertine\" font-size=\"10.00\">hidden&#45;tensor</text>\n<text text-anchor=\"start\" x=\"92\" y=\"-652\" font-family=\"Linux libertine\" font-size=\"10.00\">depth:2</text>\n<polygon fill=\"none\" stroke=\"black\" points=\"158,-644 158,-676 217,-676 217,-644 158,-644\"/>\n<text text-anchor=\"start\" x=\"163\" y=\"-657.5\" font-family=\"Linux libertine\" font-size=\"10.00\">(1, 120)</text>\n</g>\n<!-- 15&#45;&gt;16 -->\n<g id=\"edge16\" class=\"edge\">\n<title>15&#45;&gt;16</title>\n<path fill=\"none\" stroke=\"black\" d=\"M143,-711.84C143,-703.89 143,-694.66 143,-686.26\"/>\n<polygon fill=\"black\" stroke=\"black\" points=\"146.5,-686.24 143,-676.24 139.5,-686.24 146.5,-686.24\"/>\n</g>\n<!-- 17 -->\n<g id=\"node18\" class=\"node\">\n<title>17</title>\n<polygon fill=\"aliceblue\" stroke=\"transparent\" points=\"231.5,-599 54.5,-599 54.5,-557 231.5,-557 231.5,-599\"/>\n<polygon fill=\"none\" stroke=\"black\" points=\"55,-557 55,-599 108,-599 108,-557 55,-557\"/>\n<text text-anchor=\"start\" x=\"69\" y=\"-581\" font-family=\"Linux libertine\" font-size=\"10.00\">relu</text>\n<text text-anchor=\"start\" x=\"60\" y=\"-570\" font-family=\"Linux libertine\" font-size=\"10.00\">depth:3</text>\n<polygon fill=\"none\" stroke=\"black\" points=\"108,-578 108,-599 167,-599 167,-578 108,-578\"/>\n<text text-anchor=\"start\" x=\"119\" y=\"-586\" font-family=\"Linux libertine\" font-size=\"10.00\">input:</text>\n<polygon fill=\"none\" stroke=\"black\" points=\"167,-578 167,-599 232,-599 232,-578 167,-578\"/>\n<text text-anchor=\"start\" x=\"172\" y=\"-586\" font-family=\"Linux libertine\" font-size=\"10.00\">(1, 120) </text>\n<polygon fill=\"none\" stroke=\"black\" points=\"108,-557 108,-578 167,-578 167,-557 108,-557\"/>\n<text text-anchor=\"start\" x=\"113\" y=\"-565\" font-family=\"Linux libertine\" font-size=\"10.00\">output: </text>\n<polygon fill=\"none\" stroke=\"black\" points=\"167,-557 167,-578 232,-578 232,-557 167,-557\"/>\n<text text-anchor=\"start\" x=\"172\" y=\"-565\" font-family=\"Linux libertine\" font-size=\"10.00\">(1, 120) </text>\n</g>\n<!-- 16&#45;&gt;17 -->\n<g id=\"edge17\" class=\"edge\">\n<title>16&#45;&gt;17</title>\n<path fill=\"none\" stroke=\"black\" d=\"M143,-643.95C143,-634.15 143,-621.02 143,-609.13\"/>\n<polygon fill=\"black\" stroke=\"black\" points=\"146.5,-609.12 143,-599.12 139.5,-609.12 146.5,-609.12\"/>\n</g>\n<!-- 18 -->\n<g id=\"node19\" class=\"node\">\n<title>18</title>\n<polygon fill=\"lightyellow\" stroke=\"transparent\" points=\"217,-521 69,-521 69,-489 217,-489 217,-521\"/>\n<polygon fill=\"none\" stroke=\"black\" points=\"69,-489 69,-521 158,-521 158,-489 69,-489\"/>\n<text text-anchor=\"start\" x=\"74\" y=\"-508\" font-family=\"Linux libertine\" font-size=\"10.00\">hidden&#45;tensor</text>\n<text text-anchor=\"start\" x=\"92\" y=\"-497\" font-family=\"Linux libertine\" font-size=\"10.00\">depth:2</text>\n<polygon fill=\"none\" stroke=\"black\" points=\"158,-489 158,-521 217,-521 217,-489 158,-489\"/>\n<text text-anchor=\"start\" x=\"163\" y=\"-502.5\" font-family=\"Linux libertine\" font-size=\"10.00\">(1, 120)</text>\n</g>\n<!-- 17&#45;&gt;18 -->\n<g id=\"edge18\" class=\"edge\">\n<title>17&#45;&gt;18</title>\n<path fill=\"none\" stroke=\"black\" d=\"M143,-556.84C143,-548.89 143,-539.66 143,-531.26\"/>\n<polygon fill=\"black\" stroke=\"black\" points=\"146.5,-531.24 143,-521.24 139.5,-531.24 146.5,-531.24\"/>\n</g>\n<!-- 19 -->\n<g id=\"node20\" class=\"node\">\n<title>19</title>\n<polygon fill=\"aliceblue\" stroke=\"transparent\" points=\"231.5,-444 54.5,-444 54.5,-402 231.5,-402 231.5,-444\"/>\n<polygon fill=\"none\" stroke=\"black\" points=\"55,-402 55,-444 108,-444 108,-402 55,-402\"/>\n<text text-anchor=\"start\" x=\"63\" y=\"-426\" font-family=\"Linux libertine\" font-size=\"10.00\">linear</text>\n<text text-anchor=\"start\" x=\"60\" y=\"-415\" font-family=\"Linux libertine\" font-size=\"10.00\">depth:3</text>\n<polygon fill=\"none\" stroke=\"black\" points=\"108,-423 108,-444 167,-444 167,-423 108,-423\"/>\n<text text-anchor=\"start\" x=\"119\" y=\"-431\" font-family=\"Linux libertine\" font-size=\"10.00\">input:</text>\n<polygon fill=\"none\" stroke=\"black\" points=\"167,-423 167,-444 232,-444 232,-423 167,-423\"/>\n<text text-anchor=\"start\" x=\"172\" y=\"-431\" font-family=\"Linux libertine\" font-size=\"10.00\">(1, 120) </text>\n<polygon fill=\"none\" stroke=\"black\" points=\"108,-402 108,-423 167,-423 167,-402 108,-402\"/>\n<text text-anchor=\"start\" x=\"113\" y=\"-410\" font-family=\"Linux libertine\" font-size=\"10.00\">output: </text>\n<polygon fill=\"none\" stroke=\"black\" points=\"167,-402 167,-423 232,-423 232,-402 167,-402\"/>\n<text text-anchor=\"start\" x=\"175\" y=\"-410\" font-family=\"Linux libertine\" font-size=\"10.00\">(1, 84) </text>\n</g>\n<!-- 18&#45;&gt;19 -->\n<g id=\"edge19\" class=\"edge\">\n<title>18&#45;&gt;19</title>\n<path fill=\"none\" stroke=\"black\" d=\"M143,-488.95C143,-479.15 143,-466.02 143,-454.13\"/>\n<polygon fill=\"black\" stroke=\"black\" points=\"146.5,-454.12 143,-444.12 139.5,-454.12 146.5,-454.12\"/>\n</g>\n<!-- 20 -->\n<g id=\"node21\" class=\"node\">\n<title>20</title>\n<polygon fill=\"lightyellow\" stroke=\"transparent\" points=\"214,-366 72,-366 72,-334 214,-334 214,-366\"/>\n<polygon fill=\"none\" stroke=\"black\" points=\"72,-334 72,-366 161,-366 161,-334 72,-334\"/>\n<text text-anchor=\"start\" x=\"77\" y=\"-353\" font-family=\"Linux libertine\" font-size=\"10.00\">hidden&#45;tensor</text>\n<text text-anchor=\"start\" x=\"95\" y=\"-342\" font-family=\"Linux libertine\" font-size=\"10.00\">depth:2</text>\n<polygon fill=\"none\" stroke=\"black\" points=\"161,-334 161,-366 214,-366 214,-334 161,-334\"/>\n<text text-anchor=\"start\" x=\"166\" y=\"-347.5\" font-family=\"Linux libertine\" font-size=\"10.00\">(1, 84)</text>\n</g>\n<!-- 19&#45;&gt;20 -->\n<g id=\"edge20\" class=\"edge\">\n<title>19&#45;&gt;20</title>\n<path fill=\"none\" stroke=\"black\" d=\"M143,-401.84C143,-393.89 143,-384.66 143,-376.26\"/>\n<polygon fill=\"black\" stroke=\"black\" points=\"146.5,-376.24 143,-366.24 139.5,-376.24 146.5,-376.24\"/>\n</g>\n<!-- 21 -->\n<g id=\"node22\" class=\"node\">\n<title>21</title>\n<polygon fill=\"aliceblue\" stroke=\"transparent\" points=\"228.5,-289 57.5,-289 57.5,-247 228.5,-247 228.5,-289\"/>\n<polygon fill=\"none\" stroke=\"black\" points=\"58,-247 58,-289 111,-289 111,-247 58,-247\"/>\n<text text-anchor=\"start\" x=\"72\" y=\"-271\" font-family=\"Linux libertine\" font-size=\"10.00\">relu</text>\n<text text-anchor=\"start\" x=\"63\" y=\"-260\" font-family=\"Linux libertine\" font-size=\"10.00\">depth:3</text>\n<polygon fill=\"none\" stroke=\"black\" points=\"111,-268 111,-289 170,-289 170,-268 111,-268\"/>\n<text text-anchor=\"start\" x=\"122\" y=\"-276\" font-family=\"Linux libertine\" font-size=\"10.00\">input:</text>\n<polygon fill=\"none\" stroke=\"black\" points=\"170,-268 170,-289 229,-289 229,-268 170,-268\"/>\n<text text-anchor=\"start\" x=\"175\" y=\"-276\" font-family=\"Linux libertine\" font-size=\"10.00\">(1, 84) </text>\n<polygon fill=\"none\" stroke=\"black\" points=\"111,-247 111,-268 170,-268 170,-247 111,-247\"/>\n<text text-anchor=\"start\" x=\"116\" y=\"-255\" font-family=\"Linux libertine\" font-size=\"10.00\">output: </text>\n<polygon fill=\"none\" stroke=\"black\" points=\"170,-247 170,-268 229,-268 229,-247 170,-247\"/>\n<text text-anchor=\"start\" x=\"175\" y=\"-255\" font-family=\"Linux libertine\" font-size=\"10.00\">(1, 84) </text>\n</g>\n<!-- 20&#45;&gt;21 -->\n<g id=\"edge21\" class=\"edge\">\n<title>20&#45;&gt;21</title>\n<path fill=\"none\" stroke=\"black\" d=\"M143,-333.95C143,-324.15 143,-311.02 143,-299.13\"/>\n<polygon fill=\"black\" stroke=\"black\" points=\"146.5,-299.12 143,-289.12 139.5,-299.12 146.5,-299.12\"/>\n</g>\n<!-- 22 -->\n<g id=\"node23\" class=\"node\">\n<title>22</title>\n<polygon fill=\"lightyellow\" stroke=\"transparent\" points=\"214,-211 72,-211 72,-179 214,-179 214,-211\"/>\n<polygon fill=\"none\" stroke=\"black\" points=\"72,-179 72,-211 161,-211 161,-179 72,-179\"/>\n<text text-anchor=\"start\" x=\"77\" y=\"-198\" font-family=\"Linux libertine\" font-size=\"10.00\">hidden&#45;tensor</text>\n<text text-anchor=\"start\" x=\"95\" y=\"-187\" font-family=\"Linux libertine\" font-size=\"10.00\">depth:2</text>\n<polygon fill=\"none\" stroke=\"black\" points=\"161,-179 161,-211 214,-211 214,-179 161,-179\"/>\n<text text-anchor=\"start\" x=\"166\" y=\"-192.5\" font-family=\"Linux libertine\" font-size=\"10.00\">(1, 84)</text>\n</g>\n<!-- 21&#45;&gt;22 -->\n<g id=\"edge22\" class=\"edge\">\n<title>21&#45;&gt;22</title>\n<path fill=\"none\" stroke=\"black\" d=\"M143,-246.84C143,-238.89 143,-229.66 143,-221.26\"/>\n<polygon fill=\"black\" stroke=\"black\" points=\"146.5,-221.24 143,-211.24 139.5,-221.24 146.5,-221.24\"/>\n</g>\n<!-- 23 -->\n<g id=\"node24\" class=\"node\">\n<title>23</title>\n<polygon fill=\"aliceblue\" stroke=\"transparent\" points=\"228.5,-134 57.5,-134 57.5,-92 228.5,-92 228.5,-134\"/>\n<polygon fill=\"none\" stroke=\"black\" points=\"58,-92 58,-134 111,-134 111,-92 58,-92\"/>\n<text text-anchor=\"start\" x=\"66\" y=\"-116\" font-family=\"Linux libertine\" font-size=\"10.00\">linear</text>\n<text text-anchor=\"start\" x=\"63\" y=\"-105\" font-family=\"Linux libertine\" font-size=\"10.00\">depth:3</text>\n<polygon fill=\"none\" stroke=\"black\" points=\"111,-113 111,-134 170,-134 170,-113 111,-113\"/>\n<text text-anchor=\"start\" x=\"122\" y=\"-121\" font-family=\"Linux libertine\" font-size=\"10.00\">input:</text>\n<polygon fill=\"none\" stroke=\"black\" points=\"170,-113 170,-134 229,-134 229,-113 170,-113\"/>\n<text text-anchor=\"start\" x=\"175\" y=\"-121\" font-family=\"Linux libertine\" font-size=\"10.00\">(1, 84) </text>\n<polygon fill=\"none\" stroke=\"black\" points=\"111,-92 111,-113 170,-113 170,-92 111,-92\"/>\n<text text-anchor=\"start\" x=\"116\" y=\"-100\" font-family=\"Linux libertine\" font-size=\"10.00\">output: </text>\n<polygon fill=\"none\" stroke=\"black\" points=\"170,-92 170,-113 229,-113 229,-92 170,-92\"/>\n<text text-anchor=\"start\" x=\"175\" y=\"-100\" font-family=\"Linux libertine\" font-size=\"10.00\">(1, 10) </text>\n</g>\n<!-- 22&#45;&gt;23 -->\n<g id=\"edge23\" class=\"edge\">\n<title>22&#45;&gt;23</title>\n<path fill=\"none\" stroke=\"black\" d=\"M143,-178.95C143,-169.15 143,-156.02 143,-144.13\"/>\n<polygon fill=\"black\" stroke=\"black\" points=\"146.5,-144.12 143,-134.12 139.5,-144.12 146.5,-144.12\"/>\n</g>\n<!-- 24 -->\n<g id=\"node25\" class=\"node\">\n<title>24</title>\n<polygon fill=\"lightyellow\" stroke=\"transparent\" points=\"214,-56 72,-56 72,-24 214,-24 214,-56\"/>\n<polygon fill=\"none\" stroke=\"black\" points=\"72,-24 72,-56 161,-56 161,-24 72,-24\"/>\n<text text-anchor=\"start\" x=\"77\" y=\"-43\" font-family=\"Linux libertine\" font-size=\"10.00\">output&#45;tensor</text>\n<text text-anchor=\"start\" x=\"95\" y=\"-32\" font-family=\"Linux libertine\" font-size=\"10.00\">depth:0</text>\n<polygon fill=\"none\" stroke=\"black\" points=\"161,-24 161,-56 214,-56 214,-24 161,-24\"/>\n<text text-anchor=\"start\" x=\"166\" y=\"-37.5\" font-family=\"Linux libertine\" font-size=\"10.00\">(1, 10)</text>\n</g>\n<!-- 23&#45;&gt;24 -->\n<g id=\"edge24\" class=\"edge\">\n<title>23&#45;&gt;24</title>\n<path fill=\"none\" stroke=\"black\" d=\"M143,-91.84C143,-83.89 143,-74.66 143,-66.26\"/>\n<polygon fill=\"black\" stroke=\"black\" points=\"146.5,-66.24 143,-56.24 139.5,-66.24 146.5,-66.24\"/>\n</g>\n</g>\n</svg>\n",
            "text/plain": [
              "<graphviz.graphs.Digraph at 0x786c0a12cca0>"
            ]
          },
          "metadata": {},
          "execution_count": 36
        }
      ],
      "source": [
        "model_graph_1.visual_graph"
      ]
    },
    {
      "cell_type": "code",
      "source": [],
      "metadata": {
        "id": "cGYab_NSCB5x"
      },
      "execution_count": null,
      "outputs": []
    },
    {
      "cell_type": "markdown",
      "source": [
        "* ¿Qué es el Max Pooling? ¿Para qué lo utilizamos en CNN?\n",
        "\n",
        "\n",
        "* ¿Qué ventajas tiene usar ReLU en vez de una función de activación Sigmoide?"
      ],
      "metadata": {
        "id": "tiufU6n1NSUz"
      }
    },
    {
      "cell_type": "markdown",
      "source": [
        "\n",
        "\n",
        "https://pytorch.org/docs/stable/generated/torch.nn.Conv2d.html\n",
        "\n",
        "https://dingyan89.medium.com/calculating-parameters-of-convolutional-and-fully-connected-layers-with-keras-186590df36c6\n",
        "\n",
        "https://github.com/mert-kurttutan/torchview\n"
      ],
      "metadata": {
        "id": "jKz1vmbCk_0S"
      }
    },
    {
      "cell_type": "markdown",
      "metadata": {
        "id": "TD2yejpPsnlH"
      },
      "source": [
        "## <b><FONT size=\"5\" color='MidnightBlue '>Actividad 3</FONT>\n",
        "\n"
      ]
    },
    {
      "cell_type": "markdown",
      "source": [
        "https://machinelearningmastery.com/using-optimizers-from-pytorch/\n"
      ],
      "metadata": {
        "id": "mr3HXgP2gNW4"
      }
    },
    {
      "cell_type": "markdown",
      "metadata": {
        "id": "plg8RdxMsSZj"
      },
      "source": [
        "# <b><FONT color='MidnightBlue' size='6'>Parte 2: ResNet18 </FONT></b>"
      ]
    },
    {
      "cell_type": "markdown",
      "metadata": {
        "id": "qbxm0dxVsoD3"
      },
      "source": [
        "## <b><FONT size=\"5\" color='MidnightBlue '>Actividad 4</FONT>\n",
        "\n"
      ]
    },
    {
      "cell_type": "markdown",
      "source": [
        "https://www.kaggle.com/code/ivankunyankin/resnet18-from-scratch-using-pytorch\n",
        "\n",
        "https://debuggercafe.com/implementing-resnet18-in-pytorch-from-scratch/"
      ],
      "metadata": {
        "id": "FjRgzLNaxw7D"
      }
    },
    {
      "cell_type": "markdown",
      "metadata": {
        "id": "S_q1Fl0EspIM"
      },
      "source": [
        "## <b><FONT size=\"5\" color='MidnightBlue '>Actividad 5</FONT>\n",
        "\n"
      ]
    },
    {
      "cell_type": "markdown",
      "metadata": {
        "id": "6niCLdl1spOf"
      },
      "source": [
        "## <b><FONT size=\"5\" color='MidnightBlue '>Actividad 6</FONT>\n",
        "\n"
      ]
    },
    {
      "cell_type": "markdown",
      "metadata": {
        "id": "NAhWp6ZFsV8F"
      },
      "source": [
        "#<b><FONT color='MidnightBlue' size='6'>Parte 3: Image Segmentation + YOLO </FONT></b>"
      ]
    },
    {
      "cell_type": "markdown",
      "metadata": {
        "id": "4SuUzZntsq6S"
      },
      "source": [
        "## <b><FONT size=\"5\" color='MidnightBlue '>Actividad 7</FONT>\n",
        "\n"
      ]
    },
    {
      "cell_type": "code",
      "source": [
        "pre_trained_model = YOLO('yolov8s-seg.pt')"
      ],
      "metadata": {
        "id": "_RZdLHPMukKF"
      },
      "execution_count": null,
      "outputs": []
    },
    {
      "cell_type": "markdown",
      "source": [
        "¿Por qué utilizamos modelos pre-entrenados (pretrained)? ¿Cuáles son las ventajas y desventajas?\n",
        "\n"
      ],
      "metadata": {
        "id": "q2v7TbQVu-ID"
      }
    },
    {
      "cell_type": "markdown",
      "metadata": {
        "id": "Rvm_TSMWsrAz"
      },
      "source": [
        "## <b><FONT size=\"5\" color='MidnightBlue '>Actividad 8</FONT>\n",
        "\n"
      ]
    },
    {
      "cell_type": "markdown",
      "metadata": {
        "id": "vomkoPdDsrHg"
      },
      "source": [
        "## <b><FONT size=\"5\" color='MidnightBlue '>Actividad 9</FONT>\n",
        "\n"
      ]
    },
    {
      "cell_type": "code",
      "source": [],
      "metadata": {
        "id": "dg5LqgQ2sQ81"
      },
      "execution_count": null,
      "outputs": []
    },
    {
      "cell_type": "markdown",
      "metadata": {
        "id": "OrSMS7u2WnoN"
      },
      "source": [
        "# <b><FONT color='MidnightBlue' size='5'>Trash </FONT></b>"
      ]
    },
    {
      "cell_type": "code",
      "source": [
        "class_count = {}\n",
        "for _, index in dataset:\n",
        "    label = classes[index]\n",
        "    if label not in class_count:\n",
        "        class_count[label] = 0\n",
        "    class_count[label] += 1\n",
        "return class_count"
      ],
      "metadata": {
        "id": "fyb8fqs5PGQY"
      },
      "execution_count": null,
      "outputs": []
    },
    {
      "cell_type": "code",
      "source": [
        "# for a, index in full_dataset:\n",
        "#     print(index)\n",
        "type(full_dataset)"
      ],
      "metadata": {
        "colab": {
          "base_uri": "https://localhost:8080/",
          "height": 204
        },
        "id": "mBkFS-3yPdmK",
        "outputId": "eea521d8-3bbf-443c-fea3-aa0ccdb53a61"
      },
      "execution_count": null,
      "outputs": [
        {
          "output_type": "execute_result",
          "data": {
            "text/plain": [
              "torchvision.datasets.cifar.CIFAR10"
            ],
            "text/html": [
              "<div style=\"max-width:800px; border: 1px solid var(--colab-border-color);\"><style>\n",
              "      pre.function-repr-contents {\n",
              "        overflow-x: auto;\n",
              "        padding: 8px 12px;\n",
              "        max-height: 500px;\n",
              "      }\n",
              "\n",
              "      pre.function-repr-contents.function-repr-contents-collapsed {\n",
              "        cursor: pointer;\n",
              "        max-height: 100px;\n",
              "      }\n",
              "    </style>\n",
              "    <pre style=\"white-space: initial; background:\n",
              "         var(--colab-secondary-surface-color); padding: 8px 12px;\n",
              "         border-bottom: 1px solid var(--colab-border-color);\"><b>torchvision.datasets.cifar.CIFAR10</b><br/>def __init__(root: str, train: bool=True, transform: Optional[Callable]=None, target_transform: Optional[Callable]=None, download: bool=False) -&gt; None</pre><pre class=\"function-repr-contents function-repr-contents-collapsed\" style=\"\"><a class=\"filepath\" style=\"display:none\" href=\"#\">/usr/local/lib/python3.10/dist-packages/torchvision/datasets/cifar.py</a>`CIFAR10 &lt;https://www.cs.toronto.edu/~kriz/cifar.html&gt;`_ Dataset.\n",
              "\n",
              "Args:\n",
              "    root (string): Root directory of dataset where directory\n",
              "        ``cifar-10-batches-py`` exists or will be saved to if download is set to True.\n",
              "    train (bool, optional): If True, creates dataset from training set, otherwise\n",
              "        creates from test set.\n",
              "    transform (callable, optional): A function/transform that takes in an PIL image\n",
              "        and returns a transformed version. E.g, ``transforms.RandomCrop``\n",
              "    target_transform (callable, optional): A function/transform that takes in the\n",
              "        target and transforms it.\n",
              "    download (bool, optional): If true, downloads the dataset from the internet and\n",
              "        puts it in root directory. If dataset is already downloaded, it is not\n",
              "        downloaded again.</pre>\n",
              "      <script>\n",
              "      if (google.colab.kernel.accessAllowed && google.colab.files && google.colab.files.view) {\n",
              "        for (const element of document.querySelectorAll('.filepath')) {\n",
              "          element.style.display = 'block'\n",
              "          element.onclick = (event) => {\n",
              "            event.preventDefault();\n",
              "            event.stopPropagation();\n",
              "            google.colab.files.view(element.textContent, 12);\n",
              "          };\n",
              "        }\n",
              "      }\n",
              "      for (const element of document.querySelectorAll('.function-repr-contents')) {\n",
              "        element.onclick = (event) => {\n",
              "          event.preventDefault();\n",
              "          event.stopPropagation();\n",
              "          element.classList.toggle('function-repr-contents-collapsed');\n",
              "        };\n",
              "      }\n",
              "      </script>\n",
              "      </div>"
            ]
          },
          "metadata": {},
          "execution_count": 24
        }
      ]
    },
    {
      "cell_type": "code",
      "source": [
        "torch.manual_seed(43)\n",
        "val_size = 5000\n",
        "train_size = len(full_dataset) - val_size"
      ],
      "metadata": {
        "id": "93EZ80pXWtDJ"
      },
      "execution_count": null,
      "outputs": []
    },
    {
      "cell_type": "code",
      "source": [
        "train_ds, val_ds = random_split(full_dataset, [train_size, val_size])\n",
        "len(train_ds), len(val_ds)"
      ],
      "metadata": {
        "id": "DyujD4X5Wtm3",
        "colab": {
          "base_uri": "https://localhost:8080/"
        },
        "outputId": "47e8aefe-1bd9-4b8f-ac48-8bd34eadd25e"
      },
      "execution_count": null,
      "outputs": [
        {
          "output_type": "execute_result",
          "data": {
            "text/plain": [
              "(45000, 5000)"
            ]
          },
          "metadata": {},
          "execution_count": 26
        }
      ]
    },
    {
      "cell_type": "code",
      "source": [
        "cifar_trainset_classes = count_classes(train_ds)\n",
        "cifar_valset_classes = count_classes(val_ds)"
      ],
      "metadata": {
        "id": "3pzYyEw5SdAS"
      },
      "execution_count": null,
      "outputs": []
    },
    {
      "cell_type": "code",
      "source": [
        "from torch.utils.data.sampler import SubsetRandomSampler"
      ],
      "metadata": {
        "id": "qxZ_Dcv9Un7v"
      },
      "execution_count": null,
      "outputs": []
    },
    {
      "cell_type": "code",
      "source": [
        "# Get indices for training_set and validation_set\n",
        "n_train = len(full_dataset)\n",
        "# Percentage of training set to use as validation\n",
        "n_valid = 0.2\n",
        "indices = list(range(n_train))\n",
        "np.random.shuffle(indices)\n",
        "split = int(np.floor(n_valid * n_train))\n",
        "train_idx, valid_idx = indices[split:], indices[:split]"
      ],
      "metadata": {
        "id": "wYqvogYGUx3A"
      },
      "execution_count": null,
      "outputs": []
    },
    {
      "cell_type": "code",
      "source": [
        "# Define samplers for obtaining training and validation\n",
        "train_sampler = SubsetRandomSampler(train_idx)\n",
        "valid_sampler = SubsetRandomSampler(valid_idx)"
      ],
      "metadata": {
        "id": "RlSCEUEFUznt"
      },
      "execution_count": null,
      "outputs": []
    },
    {
      "cell_type": "code",
      "source": [
        "train_sampler"
      ],
      "metadata": {
        "colab": {
          "base_uri": "https://localhost:8080/"
        },
        "id": "om7czkcPVELH",
        "outputId": "2ce104cc-630d-4c3c-a9ba-8aea0e9eef89"
      },
      "execution_count": null,
      "outputs": [
        {
          "output_type": "execute_result",
          "data": {
            "text/plain": [
              "<torch.utils.data.sampler.SubsetRandomSampler at 0x7964a601be20>"
            ]
          },
          "metadata": {},
          "execution_count": 36
        }
      ]
    },
    {
      "cell_type": "code",
      "source": [
        "cifar_trainset_classes = count_classes(train_sampler)\n",
        "# cifar_valset_classes = count_classes(val_ds)\n"
      ],
      "metadata": {
        "colab": {
          "base_uri": "https://localhost:8080/",
          "height": 286
        },
        "id": "F74RJUy1VI64",
        "outputId": "a8282f91-b461-425f-dc66-983ac63c4733"
      },
      "execution_count": null,
      "outputs": [
        {
          "output_type": "error",
          "ename": "TypeError",
          "evalue": "cannot unpack non-iterable int object",
          "traceback": [
            "\u001b[0;31m---------------------------------------------------------------------------\u001b[0m",
            "\u001b[0;31mTypeError\u001b[0m                                 Traceback (most recent call last)",
            "\u001b[0;32m<ipython-input-37-541d480e1b44>\u001b[0m in \u001b[0;36m<cell line: 1>\u001b[0;34m()\u001b[0m\n\u001b[0;32m----> 1\u001b[0;31m \u001b[0mcifar_trainset_classes\u001b[0m \u001b[0;34m=\u001b[0m \u001b[0mcount_classes\u001b[0m\u001b[0;34m(\u001b[0m\u001b[0mtrain_sampler\u001b[0m\u001b[0;34m)\u001b[0m\u001b[0;34m\u001b[0m\u001b[0;34m\u001b[0m\u001b[0m\n\u001b[0m\u001b[1;32m      2\u001b[0m \u001b[0;31m# cifar_valset_classes = count_classes(val_ds)\u001b[0m\u001b[0;34m\u001b[0m\u001b[0;34m\u001b[0m\u001b[0m\n",
            "\u001b[0;32m<ipython-input-5-323a0fc42d0e>\u001b[0m in \u001b[0;36mcount_classes\u001b[0;34m(dataset)\u001b[0m\n\u001b[1;32m      1\u001b[0m \u001b[0;32mdef\u001b[0m \u001b[0mcount_classes\u001b[0m\u001b[0;34m(\u001b[0m\u001b[0mdataset\u001b[0m\u001b[0;34m)\u001b[0m\u001b[0;34m:\u001b[0m\u001b[0;34m\u001b[0m\u001b[0;34m\u001b[0m\u001b[0m\n\u001b[1;32m      2\u001b[0m     \u001b[0mclass_count\u001b[0m \u001b[0;34m=\u001b[0m \u001b[0;34m{\u001b[0m\u001b[0;34m}\u001b[0m\u001b[0;34m\u001b[0m\u001b[0;34m\u001b[0m\u001b[0m\n\u001b[0;32m----> 3\u001b[0;31m     \u001b[0;32mfor\u001b[0m \u001b[0m_\u001b[0m\u001b[0;34m,\u001b[0m \u001b[0mindex\u001b[0m \u001b[0;32min\u001b[0m \u001b[0mdataset\u001b[0m\u001b[0;34m:\u001b[0m\u001b[0;34m\u001b[0m\u001b[0;34m\u001b[0m\u001b[0m\n\u001b[0m\u001b[1;32m      4\u001b[0m         \u001b[0mlabel\u001b[0m \u001b[0;34m=\u001b[0m \u001b[0mclasses\u001b[0m\u001b[0;34m[\u001b[0m\u001b[0mindex\u001b[0m\u001b[0;34m]\u001b[0m\u001b[0;34m\u001b[0m\u001b[0;34m\u001b[0m\u001b[0m\n\u001b[1;32m      5\u001b[0m         \u001b[0;32mif\u001b[0m \u001b[0mlabel\u001b[0m \u001b[0;32mnot\u001b[0m \u001b[0;32min\u001b[0m \u001b[0mclass_count\u001b[0m\u001b[0;34m:\u001b[0m\u001b[0;34m\u001b[0m\u001b[0;34m\u001b[0m\u001b[0m\n",
            "\u001b[0;31mTypeError\u001b[0m: cannot unpack non-iterable int object"
          ]
        }
      ]
    },
    {
      "cell_type": "code",
      "source": [
        "train_loader = DataLoader(train_ds, batch_size, shuffle=True, pin_memory=True)\n",
        "val_loader = DataLoader(val_ds, batch_size*2, pin_memory=True)\n",
        "test_loader = DataLoader(test_dataset, batch_size*2, pin_memory=True)"
      ],
      "metadata": {
        "id": "3pBUh5WoKMcC"
      },
      "execution_count": null,
      "outputs": []
    }
  ]
}